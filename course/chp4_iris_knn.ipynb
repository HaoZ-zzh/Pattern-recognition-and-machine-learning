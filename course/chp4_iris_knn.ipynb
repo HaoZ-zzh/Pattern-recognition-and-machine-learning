{
 "cells": [
  {
   "cell_type": "markdown",
   "metadata": {},
   "source": [
    "## Iris鸢尾花分类\n",
    "KNN中，用10折交叉验证寻找最佳的K"
   ]
  },
  {
   "cell_type": "code",
   "execution_count": null,
   "metadata": {},
   "outputs": [],
   "source": [
    "import pandas as pd\n",
    "import numpy as np\n",
    "\n",
    "#KNN\n",
    "from sklearn.neighbors import KNeighborsClassifier\n",
    "\n",
    "# 模型性能的评价,本案例为分类问题，用正确率作为模型性能评价指标\n",
    "from sklearn.metrics import accuracy_score \n",
    "\n",
    "#作图\n",
    "import matplotlib.pyplot as plt \n",
    "import seaborn as sns\n",
    "%matplotlib inline\n",
    "\n",
    "#显示中文\n",
    "plt.rcParams['font.sans-serif'] = ['Arial Unicode MS']"
   ]
  },
  {
   "cell_type": "code",
   "execution_count": null,
   "metadata": {
    "collapsed": false,
    "jupyter": {
     "outputs_hidden": false
    }
   },
   "outputs": [],
   "source": [
    "#读取数据\n",
    "# csv文件没有列名，增加列名\n",
    "feat_names = ['sepal-length', 'sepal-width', 'petal-length', 'petal-width', 'species']\n",
    "\n",
    "dpath = \"./data/\"\n",
    "df = pd.read_csv(dpath + \"iris.csv\", names = feat_names)\n",
    "\n",
    "#通过观察前5行，了解数据每列（特征）的概况\n",
    "df.head()"
   ]
  },
  {
   "cell_type": "code",
   "execution_count": null,
   "metadata": {
    "collapsed": false,
    "jupyter": {
     "outputs_hidden": false
    }
   },
   "outputs": [],
   "source": [
    "# 数据总体信息\n",
    "df.info()"
   ]
  },
  {
   "cell_type": "code",
   "execution_count": null,
   "metadata": {},
   "outputs": [],
   "source": [
    "#查看缺失值情况（每列缺失情况从上述info()函数亦可知道）\n",
    "#isnull()函数返回dataframe表中的每个元素是否缺失（df中每一个值都为False或者True）\n",
    "#df.isnull()\n",
    "\n",
    "# 计算每一行有多少个缺失值的值，即按行统计缺失值\n",
    "row_null = df.isnull().sum(axis=1) \n",
    "\n",
    "# 按列统计缺失值\n",
    "col_null = df.isnull().sum(axis=0)\n",
    "\n",
    "#统计整个df的缺失值\n",
    "all_null = df.isnull().sum().sum()"
   ]
  },
  {
   "cell_type": "code",
   "execution_count": null,
   "metadata": {
    "collapsed": false,
    "jupyter": {
     "outputs_hidden": false
    },
    "scrolled": true
   },
   "outputs": [],
   "source": [
    "#数值型特征的统计量\n",
    "df.describe()"
   ]
  },
  {
   "cell_type": "code",
   "execution_count": null,
   "metadata": {
    "collapsed": false,
    "jupyter": {
     "outputs_hidden": false
    }
   },
   "outputs": [],
   "source": [
    "#特征的直方图\n",
    "sns.distplot(df['sepal-length'], bins=20, kde=True)"
   ]
  },
  {
   "cell_type": "code",
   "execution_count": null,
   "metadata": {
    "collapsed": false,
    "jupyter": {
     "outputs_hidden": false
    }
   },
   "outputs": [],
   "source": [
    "corr = df.corr().abs()\n",
    "sns.heatmap(corr,annot=True)"
   ]
  },
  {
   "cell_type": "code",
   "execution_count": null,
   "metadata": {
    "collapsed": false,
    "jupyter": {
     "outputs_hidden": false
    },
    "scrolled": true
   },
   "outputs": [],
   "source": [
    "#标签的直方图\n",
    "sns.countplot(df['species'])"
   ]
  },
  {
   "cell_type": "code",
   "execution_count": null,
   "metadata": {
    "collapsed": false,
    "jupyter": {
     "outputs_hidden": false
    },
    "scrolled": true
   },
   "outputs": [],
   "source": [
    "#IQR,检测噪声\n",
    "sns.boxplot(df['sepal-length'])"
   ]
  },
  {
   "cell_type": "code",
   "execution_count": null,
   "metadata": {
    "collapsed": false,
    "jupyter": {
     "outputs_hidden": false
    }
   },
   "outputs": [],
   "source": [
    "#数值型特征之间的相关系数\n",
    "feat_corr = df.corr().abs()\n",
    "sns.heatmap(feat_corr , annot=True)"
   ]
  },
  {
   "cell_type": "code",
   "execution_count": null,
   "metadata": {
    "collapsed": false,
    "jupyter": {
     "outputs_hidden": false
    }
   },
   "outputs": [],
   "source": [
    "# 通过hue设定种类，markers不同种类的点的表示方式\n",
    "# 对角线为核密度图\n",
    "sns.pairplot(df, kind=\"scatter\", diag_kind = \"kde\", hue=\"species\", markers=[\"o\", \"s\", \"D\"], diag_kws=dict(shade=True))"
   ]
  },
  {
   "cell_type": "code",
   "execution_count": null,
   "metadata": {},
   "outputs": [],
   "source": [
    "#标签字符串映射为整数（在此并不一定需要）\n",
    "target_map = {'Iris-setosa':0, \n",
    "              'Iris-versicolor':1,\n",
    "              'Iris-virginica':2 }  #2\n",
    "\n",
    "# Use the pandas apply method to numerically encode our attrition target variable\n",
    "df['species'] = df['species'].apply(lambda x: target_map[x])"
   ]
  },
  {
   "cell_type": "code",
   "execution_count": null,
   "metadata": {},
   "outputs": [],
   "source": [
    "# 从原始数据中分离输入特征x和输出y\n",
    "y = df['species']\n",
    "X = df.drop('species', axis = 1)"
   ]
  },
  {
   "cell_type": "code",
   "execution_count": null,
   "metadata": {},
   "outputs": [],
   "source": [
    "# 特征缩放:数据标准化\n",
    "from sklearn.preprocessing import StandardScaler\n",
    "\n",
    "#模型训练\n",
    "scaler = StandardScaler()\n",
    "scaler.fit(X)\n",
    "\n",
    "#特征缩放\n",
    "X = scaler.transform(X)\n",
    "#X_test = scaler.transform(X_test)"
   ]
  },
  {
   "cell_type": "code",
   "execution_count": null,
   "metadata": {
    "collapsed": false,
    "jupyter": {
     "outputs_hidden": false
    }
   },
   "outputs": [],
   "source": [
    "plt.scatter(df['sepal-length'],  df['sepal-width'], label = 'orignal')\n",
    "plt.scatter(X[:,0],  X[:,1], label = 'standerlized')\n",
    "\n",
    "x_ticks = np.arange(-2, 8, 1)\n",
    "plt.xticks(x_ticks)\n",
    "plt.yticks(x_ticks)\n",
    "plt.xlabel('sepal-length')\n",
    "plt.ylabel('sepal-width')\n",
    "plt.legend()\n",
    "plt.show()"
   ]
  },
  {
   "cell_type": "code",
   "execution_count": null,
   "metadata": {},
   "outputs": [],
   "source": [
    "#将数据分割训练数据与测试数据\n",
    "#分类数据，跳用分层采样\n",
    "from sklearn.model_selection import train_test_split\n",
    "\n",
    "# 随机采样20%的数据构建测试集，其余作为训练样本\n",
    "X_train, X_test, y_train, y_test = train_test_split( X, y, test_size=0.2, random_state=4, stratify=y ) "
   ]
  },
  {
   "cell_type": "markdown",
   "metadata": {},
   "source": [
    "## 采用5折交叉验证评估给定单个超参数模型的性能"
   ]
  },
  {
   "cell_type": "code",
   "execution_count": null,
   "metadata": {
    "collapsed": false,
    "jupyter": {
     "outputs_hidden": false
    },
    "scrolled": true
   },
   "outputs": [],
   "source": [
    "from sklearn.model_selection import cross_val_score\n",
    "\n",
    "#训练分类器\n",
    "knn = KNeighborsClassifier(n_neighbors = 3)\n",
    "\n",
    "scores = cross_val_score(knn, X_train, y_train)\n",
    "print(\"Cross-validation scores: {}\".format(scores))\n",
    "print(\"Average cross-validaton score: {:.2f}\".format(scores.mean()))"
   ]
  },
  {
   "cell_type": "markdown",
   "metadata": {},
   "source": [
    "### 10折交叉验证"
   ]
  },
  {
   "cell_type": "code",
   "execution_count": null,
   "metadata": {
    "collapsed": false,
    "jupyter": {
     "outputs_hidden": false
    }
   },
   "outputs": [],
   "source": [
    "from sklearn.model_selection import GridSearchCV\n",
    "\n",
    "#设置超参数搜索范围\n",
    "Ks = range(1, 31, 2)\n",
    "tuned_parameters = dict(n_neighbors = Ks)\n",
    "\n",
    "#生成学习器实例\n",
    "knn = KNeighborsClassifier()\n",
    "\n",
    "#生成GridSearchCV实例\n",
    "grid= GridSearchCV(knn, tuned_parameters,cv=10, scoring='accuracy',n_jobs = 4, verbose=2)\n",
    "\n",
    "#训练，交叉验证对超参数调优\n",
    "grid.fit(X_train,y_train)"
   ]
  },
  {
   "cell_type": "code",
   "execution_count": null,
   "metadata": {
    "collapsed": false,
    "jupyter": {
     "outputs_hidden": false
    }
   },
   "outputs": [],
   "source": [
    "best_parameter = grid.best_params_['n_neighbors']\n",
    "best_parameter"
   ]
  },
  {
   "cell_type": "code",
   "execution_count": null,
   "metadata": {
    "collapsed": false,
    "jupyter": {
     "outputs_hidden": false
    }
   },
   "outputs": [],
   "source": [
    "# plot CV误差曲线\n",
    "accuracy = grid.cv_results_[ 'mean_test_score' ]\n",
    "\n",
    "plt.plot(Ks, accuracy, color='b', linestyle='dashed', marker='o',\n",
    "         markerfacecolor='b', markersize=10)\n",
    "\n",
    "#最佳超参数\n",
    "plt.axvline(best_parameter, color='r', ls='--')\n",
    "\n",
    "plt.xlabel(u'K')\n",
    "plt.ylabel(u'正确率')"
   ]
  },
  {
   "cell_type": "code",
   "execution_count": null,
   "metadata": {
    "collapsed": false,
    "jupyter": {
     "outputs_hidden": false
    },
    "scrolled": true
   },
   "outputs": [],
   "source": [
    "accuracy"
   ]
  },
  {
   "cell_type": "code",
   "execution_count": null,
   "metadata": {
    "collapsed": false,
    "jupyter": {
     "outputs_hidden": false
    }
   },
   "outputs": [],
   "source": [
    "accuracy[int(best_parameter/2)]"
   ]
  },
  {
   "cell_type": "code",
   "execution_count": null,
   "metadata": {
    "collapsed": false,
    "jupyter": {
     "outputs_hidden": false
    }
   },
   "outputs": [],
   "source": [
    "#测试集上测试\n",
    "y_test_pred = grid.predict(X_test)\n",
    "acc = accuracy_score(y_test, y_test_pred)\n",
    "acc"
   ]
  },
  {
   "cell_type": "markdown",
   "metadata": {},
   "source": [
    "## 取前2维特征，在2D平面上可视化决策边界"
   ]
  },
  {
   "cell_type": "code",
   "execution_count": null,
   "metadata": {
    "collapsed": false,
    "jupyter": {
     "outputs_hidden": false
    }
   },
   "outputs": [],
   "source": [
    "#用所用的数据做训练\n",
    "X_train = X\n",
    "y_train = y\n",
    "\n",
    "#取前2维特征\n",
    "X_train_2d = X_train[:, :2] \n",
    "\n",
    "#训练分类器\n",
    "knn = KNeighborsClassifier(n_neighbors = 3)\n",
    "\n",
    "knn.fit(X_train_2d, y_train)"
   ]
  },
  {
   "cell_type": "code",
   "execution_count": null,
   "metadata": {},
   "outputs": [],
   "source": [
    "#画出分类器的决策边界\n",
    "def plot_2d_separator(classifier, X, fill=False, ax=None, eps=None):\n",
    "    if eps is None:\n",
    "        eps = X.std() / 2.\n",
    "    \n",
    "    x1_min, x2_min = X.min(axis=0) - eps\n",
    "    x1_max, x2_max = X.max(axis=0) + eps\n",
    "   \n",
    "    x1 = np.linspace(x1_min, x1_max, 500)\n",
    "    x2 = np.linspace(x2_min, x2_max, 500)\n",
    "\n",
    "    # 生成网格采样点\n",
    "    X1, X2 = np.meshgrid(x1, x2)\n",
    "    X_grid = np.c_[X1.ravel(), X2.ravel()]\n",
    "    \n",
    "    try:\n",
    "        decision_values = classifier.decision_function(X_grid)\n",
    "        levels = [0]\n",
    "        fill_levels = [decision_values.min(), 0, decision_values.max()]\n",
    "    except AttributeError:\n",
    "        # no decision_function\n",
    "        decision_values = classifier.predict_proba(X_grid)[:, 1]\n",
    "        levels = [.5]\n",
    "        fill_levels = [0, .5, 1]\n",
    "\n",
    "    if ax is None:\n",
    "        ax = plt.gca()\n",
    "    if fill:\n",
    "        ax.contourf(X1, X2, decision_values.reshape(X1.shape),\n",
    "                    levels=fill_levels, colors=['blue', 'red'])\n",
    "    else:\n",
    "        ax.contour(X1, X2, decision_values.reshape(X1.shape), levels=levels,\n",
    "                   colors=\"black\")\n",
    "    \n",
    "    ax.set_xlim(x1_min, x1_max)\n",
    "    ax.set_ylim(x2_min, x2_max)\n",
    "    ax.set_xticks(())\n",
    "    ax.set_yticks(())"
   ]
  },
  {
   "cell_type": "code",
   "execution_count": null,
   "metadata": {
    "collapsed": false,
    "jupyter": {
     "outputs_hidden": false
    }
   },
   "outputs": [],
   "source": [
    "import matplotlib as mpl\n",
    "cm_dark = mpl.colors.ListedColormap(['g', 'r', 'b'])\n",
    "#marks = ['o','^','v']\n",
    "plt.scatter(X_train_2d[:, 0], X_train_2d[:, 1], c = y_train, cmap=cm_dark,marker='o', edgecolors='k')\n",
    "\n",
    "plot_2d_separator(knn, X_train_2d) # plot the boundary\n",
    "\n",
    "#plt.xlabel(df.columns[0])\n",
    "#plt.ylabel(df.columns[1])\n",
    "plt.xlabel(u'花萼长度')\n",
    "plt.ylabel(u'花萼宽度')\n",
    "plt.legend()\n",
    "plt.show()"
   ]
  },
  {
   "cell_type": "code",
   "execution_count": null,
   "metadata": {},
   "outputs": [],
   "source": []
  }
 ],
 "metadata": {
  "kernelspec": {
   "display_name": "Python 3 (ipykernel)",
   "language": "python",
   "name": "python3"
  },
  "language_info": {
   "codemirror_mode": {
    "name": "ipython",
    "version": 3
   },
   "file_extension": ".py",
   "mimetype": "text/x-python",
   "name": "python",
   "nbconvert_exporter": "python",
   "pygments_lexer": "ipython3",
   "version": "3.10.12"
  }
 },
 "nbformat": 4,
 "nbformat_minor": 4
}
