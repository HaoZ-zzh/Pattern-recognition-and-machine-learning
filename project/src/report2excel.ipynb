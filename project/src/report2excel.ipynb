{
 "cells": [
  {
   "cell_type": "code",
   "execution_count": 53,
   "metadata": {},
   "outputs": [],
   "source": [
    "import pandas as pd\n",
    "import openpyxl\n"
   ]
  },
  {
   "cell_type": "code",
   "execution_count": 54,
   "metadata": {},
   "outputs": [],
   "source": [
    "# report = '              precision    recall  f1-score   support\\n\\n           0       0.55      0.57      0.56      1000\\n           1       0.51      0.54      0.53      1000\\n           2       0.39      0.35      0.37      1000\\n           3       0.34      0.28      0.30      1000\\n           4       0.40      0.41      0.40      1000\\n           5       0.43      0.40      0.41      1000\\n           6       0.47      0.56      0.51      1000\\n           7       0.51      0.45      0.48      1000\\n           8       0.59      0.62      0.61      1000\\n           9       0.48      0.55      0.51      1000\\n\\n    accuracy                           0.47     10000\\n   macro avg       0.47      0.47      0.47     10000\\nweighted avg       0.47      0.47      0.47     10000\\n'"
   ]
  },
  {
   "cell_type": "code",
   "execution_count": 55,
   "metadata": {},
   "outputs": [],
   "source": [
    "report = '              precision    recall  f1-score   support\\n\\n           0       0.95      0.97      0.96      1000\\n           1       0.97      0.97      0.97      1000\\n           2       0.96      0.94      0.95      1000\\n           3       0.90      0.89      0.89      1000\\n           4       0.95      0.96      0.96      1000\\n           5       0.91      0.93      0.92      1000\\n           6       0.96      0.97      0.97      1000\\n           7       0.98      0.96      0.97      1000\\n           8       0.98      0.97      0.97      1000\\n           9       0.97      0.97      0.97      1000\\n\\n    accuracy                           0.95     10000\\n   macro avg       0.95      0.95      0.95     10000\\nweighted avg       0.95      0.95      0.95     10000\\n'"
   ]
  },
  {
   "cell_type": "code",
   "execution_count": 56,
   "metadata": {},
   "outputs": [],
   "source": [
    "lines = report.strip().split('\\n')\n",
    "data = []\n",
    "index = 2\n",
    "for line in lines[2:]:  # 只取类别行\n",
    "    parts = line.split()\n",
    "    if index < 12:\n",
    "        data.append({\n",
    "            'class': parts[0],\n",
    "            'precision': parts[1],\n",
    "            'recall': parts[2],\n",
    "            'f1-score': parts[3],\n",
    "            'support': parts[4]\n",
    "        })\n",
    "    elif index == 13:\n",
    "        data.append({\n",
    "            'class': parts[0],\n",
    "            'precision': '',\n",
    "            'recall': '',\n",
    "            'f1-score': parts[1],\n",
    "            'support': parts[2]\n",
    "        })\n",
    "    elif index > 13:\n",
    "        data.append({\n",
    "            'class': parts[0] + ' avg',\n",
    "            'precision': parts[2],\n",
    "            'recall': parts[3],\n",
    "            'f1-score': parts[4],\n",
    "            'support': parts[5]\n",
    "        })\n",
    "    index += 1"
   ]
  },
  {
   "cell_type": "code",
   "execution_count": 57,
   "metadata": {},
   "outputs": [
    {
     "data": {
      "text/plain": [
       "[{'class': '0',\n",
       "  'precision': '0.95',\n",
       "  'recall': '0.97',\n",
       "  'f1-score': '0.96',\n",
       "  'support': '1000'},\n",
       " {'class': '1',\n",
       "  'precision': '0.97',\n",
       "  'recall': '0.97',\n",
       "  'f1-score': '0.97',\n",
       "  'support': '1000'},\n",
       " {'class': '2',\n",
       "  'precision': '0.96',\n",
       "  'recall': '0.94',\n",
       "  'f1-score': '0.95',\n",
       "  'support': '1000'},\n",
       " {'class': '3',\n",
       "  'precision': '0.90',\n",
       "  'recall': '0.89',\n",
       "  'f1-score': '0.89',\n",
       "  'support': '1000'},\n",
       " {'class': '4',\n",
       "  'precision': '0.95',\n",
       "  'recall': '0.96',\n",
       "  'f1-score': '0.96',\n",
       "  'support': '1000'},\n",
       " {'class': '5',\n",
       "  'precision': '0.91',\n",
       "  'recall': '0.93',\n",
       "  'f1-score': '0.92',\n",
       "  'support': '1000'},\n",
       " {'class': '6',\n",
       "  'precision': '0.96',\n",
       "  'recall': '0.97',\n",
       "  'f1-score': '0.97',\n",
       "  'support': '1000'},\n",
       " {'class': '7',\n",
       "  'precision': '0.98',\n",
       "  'recall': '0.96',\n",
       "  'f1-score': '0.97',\n",
       "  'support': '1000'},\n",
       " {'class': '8',\n",
       "  'precision': '0.98',\n",
       "  'recall': '0.97',\n",
       "  'f1-score': '0.97',\n",
       "  'support': '1000'},\n",
       " {'class': '9',\n",
       "  'precision': '0.97',\n",
       "  'recall': '0.97',\n",
       "  'f1-score': '0.97',\n",
       "  'support': '1000'},\n",
       " {'class': 'accuracy',\n",
       "  'precision': '',\n",
       "  'recall': '',\n",
       "  'f1-score': '0.95',\n",
       "  'support': '10000'},\n",
       " {'class': 'macro avg',\n",
       "  'precision': '0.95',\n",
       "  'recall': '0.95',\n",
       "  'f1-score': '0.95',\n",
       "  'support': '10000'},\n",
       " {'class': 'weighted avg',\n",
       "  'precision': '0.95',\n",
       "  'recall': '0.95',\n",
       "  'f1-score': '0.95',\n",
       "  'support': '10000'}]"
      ]
     },
     "execution_count": 57,
     "metadata": {},
     "output_type": "execute_result"
    }
   ],
   "source": [
    "data"
   ]
  },
  {
   "cell_type": "code",
   "execution_count": 58,
   "metadata": {},
   "outputs": [],
   "source": [
    "# 创建 DataFrame\n",
    "df = pd.DataFrame(data)\n",
    "\n",
    "# 保存到 Excel\n",
    "df.to_excel('../report/report-googlenet.xlsx', index=False)"
   ]
  }
 ],
 "metadata": {
  "kernelspec": {
   "display_name": "prml",
   "language": "python",
   "name": "python3"
  },
  "language_info": {
   "codemirror_mode": {
    "name": "ipython",
    "version": 3
   },
   "file_extension": ".py",
   "mimetype": "text/x-python",
   "name": "python",
   "nbconvert_exporter": "python",
   "pygments_lexer": "ipython3",
   "version": "3.12.3"
  }
 },
 "nbformat": 4,
 "nbformat_minor": 2
}
