{
 "cells": [
  {
   "cell_type": "markdown",
   "id": "10cc37e5-0337-42b5-8a48-27e036c33288",
   "metadata": {},
   "source": [
    "# 作业 2 判别式分类器"
   ]
  },
  {
   "cell_type": "markdown",
   "id": "834b0d5a-0708-42d1-8f25-08903cdecd67",
   "metadata": {},
   "source": [
    "\n",
    "## 1. 一个三类问题，其判别函数为：\n",
    "$$f_1(x) = -x_1, \\quad f_2(x) = x_1 + x_2 - 1, \\quad f_3(x) = x_1 - x_2 - 1$$\n",
    "\n",
    "\n",
    "\n",
    "\n",
    "\n"
   ]
  },
  {
   "cell_type": "markdown",
   "id": "aafbea16-3be3-4380-b1d4-6c28320cec87",
   "metadata": {},
   "source": [
    "\n",
    "（1）设这些函数是在多类情况(1)条件下确定的，绘出其判别界面和每一个模式类别的区域。"
   ]
  },
  {
   "cell_type": "markdown",
   "id": "76035cd9-7e80-4b03-b496-1c6b5fdc6335",
   "metadata": {},
   "source": [
    "<img src=\"./image/hw2-1-1.png\" alt=\"多类情况（1）\" width=\"400\" height=\"400\" style=\"display: block; margin: 0 auto;\">"
   ]
  },
  {
   "cell_type": "markdown",
   "id": "7a79da90-abb4-4b60-88f9-990584f7c92d",
   "metadata": {},
   "source": [
    "<iframe src=\"https://www.desmos.com/calculator/3amaqpklkb?embed\" width=\"500\" height=\"500\" style=\"border: 1px solid #ccc\" frameborder=0></iframe>"
   ]
  },
  {
   "cell_type": "markdown",
   "id": "0c021e79-3cb6-4dd0-aec8-8beeb4574136",
   "metadata": {},
   "source": [
    "（2）设为多类情况 2，并使：$f_{1,2} = f_1(x), \\quad f_{1,3}(x) = f_2(x), \\quad f_{2,3}(x) = f_3(x)$。绘出其判别界面和多类情况 2 的区域。\n"
   ]
  },
  {
   "cell_type": "markdown",
   "id": "caef408d-2595-4b83-92f9-7ef5bf5cc35c",
   "metadata": {},
   "source": [
    "依题意得：  \n",
    "\n",
    "$f_{1,2}(x) = f_1(x) = -x_1$,  \n",
    "\n",
    "$f_{2,1}(x) = -f_{1,2} = x_1$, \n",
    "\n",
    "$f_{1,3}(x) = f_2(x) = x_1 + x_2 - 1$,   \n",
    "\n",
    "$f_{3,1}(x) = -f_{1,3}(x) = 1 - x_1 - x_2$, \n",
    "\n",
    "$f_{2,3}(x) = f_3(x) = x_1 - x_2 -1$   \n",
    "\n",
    "$f_{3,2}(x) = -f_{2,3}(x) = x_2 - x_1 + 1$   \n",
    "\n",
    "\n",
    "<img src=\"./image/hw2-1-2.png\" alt=\"多类情况（2）\" width=\"400\" height=\"400\" style=\"display: block; margin: 0 auto;\">"
   ]
  },
  {
   "cell_type": "markdown",
   "id": "43a3f720-0cc2-4397-9739-ae0c1df1aabf",
   "metadata": {},
   "source": [
    "\n",
    "（3）设$f_1(x), f_2(x)$和$f_3(x)$是在多类情况(3)的条件下确定的，绘出其判别界面和每类的区域。\n"
   ]
  },
  {
   "cell_type": "markdown",
   "id": "668aa307-9bab-478c-ab2d-e93fbb7948c7",
   "metadata": {},
   "source": [
    "依题意得：  \n",
    "\n",
    "$f_{1,2}(x) = f_1(x) - f_2(x) = -2x_1 - x_2 + 1$,  \n",
    "\n",
    "$f_{1,3}(x) = f_1(x) - f_3(x) = -2x_1 + x_2 + 1$,   \n",
    "\n",
    "$f_{2,3}(x) = f_2(x) - f_3(x) = 2x_2$    \n",
    "\n",
    "<img src=\"./image/hw2-1-3.png\" alt=\"多类情况（3）\" width=\"400\" height=\"400\" style=\"display: block; margin: 0 auto;\">"
   ]
  },
  {
   "cell_type": "markdown",
   "id": "ad68505f-9958-4bec-8594-0b9cf13f0f3a",
   "metadata": {},
   "source": [
    "## 2. 两类模式，每类包括 5 个 3 维不同的模式向量。\n",
    "\n",
    "\n",
    "\n"
   ]
  },
  {
   "cell_type": "markdown",
   "id": "fe9e7343-c7e7-4efc-94e2-012e7423cc8f",
   "metadata": {},
   "source": [
    "(1)如果它们是线性可分的，权向量的维度是多少？\n"
   ]
  },
  {
   "cell_type": "markdown",
   "id": "537c66a3-f673-4886-b59c-2488df54b26f",
   "metadata": {},
   "source": [
    "两类模式，若线性可分，则有\n",
    "\n",
    "$$f(x) = w^T x =\\begin{cases}>0 & y=c \\\\ \\le 0 & y \\ne c \\end{cases}$$\n",
    "\n",
    "又向量维度故$f(x)$可设为\n",
    "\n",
    "$$f(x)=w_1x_1+w_2x_2+w_3x_3+b=w^T x$$\n",
    "\n",
    "其中 $w_1, w_2, w_3$ 是权向量的分量，$x_1, x_2, x_3$ 是模式向量的分量，$b$ 是偏置项。因为我们要区分的是两个类别，所以我们可以为每个类别的样本点找到上述形式的方程。然而，由于是线性可分，我们实际上只需要一个这样的方程来定义决策边界。因此，在这种情况下，权向量的维度是3（对应于三维空间中的三个特征）。"
   ]
  },
  {
   "cell_type": "markdown",
   "id": "fcef5fd0-e290-442e-a3c2-a48349cbcaba",
   "metadata": {},
   "source": [
    "\n",
    "(2)假如要建立二次的多项式判别函数，权向量的维度是多少？\n"
   ]
  },
  {
   "cell_type": "markdown",
   "id": "852cb1d1-5ac6-4e2b-a93f-63c836794feb",
   "metadata": {},
   "source": [
    "\n",
    "权系数的总项数为\n",
    "$$\\frac{(3+2)!}{2!3!} = 10$$"
   ]
  },
  {
   "cell_type": "markdown",
   "id": "e4481839-64ee-4f4d-8210-53b3f42a0205",
   "metadata": {},
   "source": [
    "### 3. 给定两类样本，其中\n",
    "\n",
    "类别 1 有 5 个样本：$\\{(1,2)^T, (2,3)^T, (3,3)^T, (4,5)^T, (5,5)^T\\}$\n",
    "\n",
    "类别 2 有 6 个样本：$\\{(1,0)^T, (2,1)^T, (3,1)^T, (3,2)^T, (5,3)^T, (6,5)^T\\}$\n",
    "\n",
    "\n"
   ]
  },
  {
   "cell_type": "markdown",
   "id": "da297fbb-a378-44ab-a67c-ef8c9a1b95ba",
   "metadata": {},
   "source": [
    "（1）求这两类的 Fisher 判别投影向量、判别函数，并在图上画出；\n"
   ]
  },
  {
   "cell_type": "code",
   "execution_count": 2,
   "id": "41c9f713-28f7-4b50-b0dc-deed0e8faa15",
   "metadata": {},
   "outputs": [
    {
     "name": "stdout",
     "output_type": "stream",
     "text": [
      "类别1的均值向量为: [3.  3.6]\n",
      "类别2的均值向量为: [3.33333333 2.        ]\n",
      "类别1的离差平方和矩阵为: \n",
      "[[10.   8. ]\n",
      " [ 8.   7.2]]\n",
      "类别2的离差平方和矩阵为: \n",
      "[[17.33333333 16.        ]\n",
      " [16.         16.        ]]\n",
      "类内散度矩阵为: \n",
      "[[27.33333333 24.        ]\n",
      " [24.         23.2       ]]\n",
      "类内散度矩阵的逆矩阵为: \n",
      "[[ 0.39908257 -0.41284404]\n",
      " [-0.41284404  0.47018349]]\n",
      "类间散度矩阵为: \n",
      "[0.11111111 2.56      ]\n",
      "Fisher判别投影向量为: [-0.79357798  0.88990826]\n",
      "常数项为: -0.021253822629969644\n",
      "-0.02 = -0.79x1 + 0.89x2\n"
     ]
    }
   ],
   "source": [
    "import numpy as np\n",
    "\n",
    "# 定义样本数据\n",
    "class1 = np.array([[1, 2], [2, 3], [3, 3], [4, 5], [5, 5]])\n",
    "class2 = np.array([[1, 0], [2, 1], [3, 1], [3, 2], [5, 3], [6, 5]])\n",
    "\n",
    "# 计算每个类别的均值向量\n",
    "mean1 = class1.mean(axis=0)\n",
    "mean2 = class2.mean(axis=0)\n",
    "\n",
    "print(f\"类别1的均值向量为: {mean1}\")\n",
    "print(f\"类别2的均值向量为: {mean2}\")\n",
    "\n",
    "# print(class1.shape)\n",
    "\n",
    "\n",
    "# 计算类内散度矩阵\n",
    "s1 = np.cov(class1.T) * (class1.shape[0] - 1)\n",
    "s2 = np.cov(class2.T) * (class2.shape[0] - 1)\n",
    "print(f\"类别1的离差平方和矩阵为: \\n{s1}\")\n",
    "print(f\"类别2的离差平方和矩阵为: \\n{s2}\")\n",
    "sw = s1 + s2\n",
    "print(f\"类内散度矩阵为: \\n{sw}\")\n",
    "\n",
    "# 计算Sw的逆矩阵\n",
    "sw_inv = np.linalg.pinv(sw)\n",
    "print(f\"类内散度矩阵的逆矩阵为: \\n{sw_inv}\")\n",
    "\n",
    "# 计算类间散度矩阵\n",
    "mean_diff = (mean1 - mean2)\n",
    "# print(f\"类别均值向量的差为: \\n{mean_diff}\")\n",
    "\n",
    "sb = mean_diff * mean_diff.T\n",
    "print(f\"类间散度矩阵为: \\n{sb}\")\n",
    "\n",
    "# 计算Fisher判别投影向量\n",
    "w = np.dot(sw_inv, mean1 - mean2)\n",
    "print(f\"Fisher判别投影向量为: {w}\")\n",
    "\n",
    "# 计算常数项\n",
    "# print(w.T)\n",
    "# print(mean1 + mean2)\n",
    "b = 0.5 * np.dot(w.T, (mean1 + mean2))\n",
    "print(f\"常数项为: {b}\")\n",
    "\n",
    "\n",
    "# 输出判别函数字符串f(x)=……，系数保留两位小数\n",
    "print(f\"{b:.2f} = {w[0]:.2f}x1 + {w[1]:.2f}x2\")"
   ]
  },
  {
   "cell_type": "markdown",
   "id": "a0d99357-5f59-4f2d-833c-0bf74025593b",
   "metadata": {},
   "source": [
    "<img src=\"./image/hw2-3-1.png\" alt=\"判别函数\" width=\"400\" height=\"400\" style=\"display: block; margin: 0 auto;\">"
   ]
  },
  {
   "cell_type": "markdown",
   "id": "9abb0004-37bc-4597-a480-865e16ea1f5e",
   "metadata": {},
   "source": [
    "\n",
    "（2）计算每个样本点投影后的坐标。\n"
   ]
  },
  {
   "cell_type": "markdown",
   "id": "6a7a17d0-be17-4d2a-bd72-a0340c05a089",
   "metadata": {},
   "source": [
    "$$z_i = w^Tx_i = \\begin{pmatrix} -0.79 & 0.89 \\end{pmatrix} \\begin{pmatrix} x_{i,1} \\\\ x_{i,2} \\end{pmatrix} = -0.79x_{i,1} + 0.89x_{i,2}$$"
   ]
  },
  {
   "cell_type": "code",
   "execution_count": 3,
   "id": "d878297c-43c4-4335-a9f9-ccc37627f855",
   "metadata": {},
   "outputs": [
    {
     "name": "stdout",
     "output_type": "stream",
     "text": [
      "类别1样本点的投影坐标:\n",
      "样本点 [1 2] 的投影坐标为: 0.99\n",
      "样本点 [2 3] 的投影坐标为: 1.08\n",
      "样本点 [3 3] 的投影坐标为: 0.29\n",
      "样本点 [4 5] 的投影坐标为: 1.28\n",
      "样本点 [5 5] 的投影坐标为: 0.48\n",
      "\n",
      "类别2样本点的投影坐标:\n",
      "样本点 [1 0] 的投影坐标为: -0.79\n",
      "样本点 [2 1] 的投影坐标为: -0.70\n",
      "样本点 [3 1] 的投影坐标为: -1.49\n",
      "样本点 [3 2] 的投影坐标为: -0.60\n",
      "样本点 [5 3] 的投影坐标为: -1.30\n",
      "样本点 [6 5] 的投影坐标为: -0.31\n"
     ]
    }
   ],
   "source": [
    "import numpy as np\n",
    "\n",
    "# 定义样本数据\n",
    "class1 = np.array([[1, 2], [2, 3], [3, 3], [4, 5], [5, 5]])\n",
    "class2 = np.array([[1, 0], [2, 1], [3, 1], [3, 2], [5, 3], [6, 5]])\n",
    "\n",
    "\n",
    "# 定义判别函数\n",
    "def fisher_discriminator(x, w):\n",
    "    return np.dot(w, x)\n",
    "\n",
    "# 计算类别1样本点的投影坐标\n",
    "projected_class1 = [fisher_discriminator(x, w) for x in class1]\n",
    "\n",
    "# 计算类别2样本点的投影坐标\n",
    "projected_class2 = [fisher_discriminator(x, w) for x in class2]\n",
    "\n",
    "# 打印投影后的坐标\n",
    "print(\"类别1样本点的投影坐标:\")\n",
    "for point, projection in zip(class1, projected_class1):\n",
    "    print(f\"样本点 {point} 的投影坐标为: {projection:.2f}\")\n",
    "\n",
    "print(\"\\n类别2样本点的投影坐标:\")\n",
    "for point, projection in zip(class2, projected_class2):\n",
    "    print(f\"样本点 {point} 的投影坐标为: {projection:.2f}\")"
   ]
  },
  {
   "cell_type": "markdown",
   "id": "aa1ac10b-594b-42ae-8e06-1172bf957a11",
   "metadata": {},
   "source": [
    "## 4. 对给定的如下样本，根据 Gini 指数，构造二叉决策树：\n",
    "\n",
    "$$\\begin{array}{cccc}& x_1 & x_2 & x_3 & y \\\\\\hline &3 & 2 & 5 & 1 \\\\&5 & 7 & 7 & 0 \\\\&8 & 6 & 9 & 1 \\\\&1 & 3 & 2 & 0 \\\\&6 & 4 & 8 & 1 \\\\&4 & 5 & 6 & 0 \\\\\\end{array}$$\n",
    "\n"
   ]
  },
  {
   "cell_type": "markdown",
   "id": "4f6f3593-4cbb-4861-bada-58fac7eac6e4",
   "metadata": {},
   "source": [
    "（1）根结点的 Gini 指数为多少？"
   ]
  },
  {
   "cell_type": "markdown",
   "id": "6023ebcb-9227-4f7b-bd44-d6c6b9e11fb0",
   "metadata": {},
   "source": [
    "Gini指数：$H(D)=\\sum_{c=1}^C \\pi_c(1-\\pi_c)$  \n",
    "\n",
    "$P(Y=1)=\\frac{1}{2}, P(Y=0)=\\frac{1}{2}$  \n",
    "\n",
    "故根节点的Gini指数为\n",
    "$$ H(D)= \\frac{1}{2} \\times \\frac{1}{2} + \\frac{1}{2} \\times \\frac{1}{2} = \\frac{1}{2}$$"
   ]
  },
  {
   "cell_type": "markdown",
   "id": "fc86628a-d63b-4e19-aef4-601fa9c7c5e9",
   "metadata": {},
   "source": [
    "（2）请给出第一个决策规则（选择的特征及阈值）。\n"
   ]
  },
  {
   "cell_type": "markdown",
   "id": "e0ef7d14-30d2-49f1-a958-ba2ec38df43c",
   "metadata": {},
   "source": [
    "对$x_1$排序：\n",
    "$$\\begin{array}{cccc}x_1 & x_2 & x_3 & y \\\\\\hline1   & 3   & 2   & 0 \\\\3   & 2   & 5   & 1 \\\\4   & 5   & 6   & 0 \\\\5   & 7   & 7   & 0 \\\\6   & 4   & 8   & 1 \\\\8   & 6   & 9   & 1 \\\\\\end{array}$$\n",
    "\n",
    "$x_1$可能的阈值为2，3.5，4.5，5.5，7\n",
    "\n",
    "$$ H_{x_1>2}(D)=\\frac{1}{6} \\times 0 + \\frac{5}{6} \\times (\\frac{3}{5} \\times \\frac{2}{5} \\times 2) = \\frac{2}{5} $$\n",
    "$$ H_{x_1>3.5}(D)=\\frac{1}{3} \\times (\\frac{1}{2} \\times \\frac{1}{2} \\times 2) + \\frac{2}{3} \\times (\\frac{1}{2} \\times \\frac{1}{2} \\times 2) = \\frac{1}{2} $$\n",
    "$$ H_{x_1>4.5}(D)=\\frac{1}{2} \\times (\\frac{2}{3} \\times \\frac{1}{3} \\times 2) + \\frac{1}{2} \\times (\\frac{2}{3} \\times \\frac{1}{3} \\times 2) = \\frac{4}{9} $$\n",
    "$$ H_{x_1>5.5}(D)=\\frac{2}{3} \\times (\\frac{3}{4} \\times \\frac{1}{4} \\times 2) + \\frac{1}{3} \\times 0 = \\frac{1}{4} $$\n",
    "$$ H_{x_1>7}(D)=\\frac{5}{6} \\times (\\frac{3}{5} \\times \\frac{2}{5} \\times 2) + \\frac{1}{6} \\times 0 = \\frac{2}{5} $$"
   ]
  },
  {
   "cell_type": "markdown",
   "id": "0dcea5b0-0ed9-4292-9b02-05c4869d1f90",
   "metadata": {},
   "source": [
    "\n",
    "对$x_2$排序：\n",
    "$$\\begin{array}{cccc}x_1 & x_2 & x_3 & y \\\\\\hline3   & 2   & 5   & 1 \\\\1   & 3   & 2   & 0 \\\\6   & 4   & 8   & 1 \\\\4   & 5   & 6   & 0 \\\\8   & 6   & 9   & 1 \\\\5   & 7   & 7   & 0 \\\\\\end{array}$$\n",
    "\n",
    "\n",
    "$x_2$可能的阈值为2.5，3.5，4.5，5.5，6.5\n",
    "\n",
    "$$ H_{x_2>2}(D)=\\frac{1}{6} \\times 0 + \\frac{5}{6} \\times (\\frac{3}{5} \\times \\frac{2}{5} \\times 2) = \\frac{2}{5} $$\n",
    "$$ H_{x_2>3.5}(D)=\\frac{1}{3} \\times (\\frac{1}{2} \\times \\frac{1}{2} \\times 2) + \\frac{2}{3} \\times (\\frac{1}{2} \\times \\frac{1}{2} \\times 2) = \\frac{1}{2} $$\n",
    "$$ H_{x_2>4.5}(D)=\\frac{1}{2} \\times (\\frac{2}{3} \\times \\frac{1}{3} \\times 2) + \\frac{1}{2} \\times (\\frac{2}{3} \\times \\frac{1}{3} \\times 2) = \\frac{4}{9} $$\n",
    "$$ H_{x_2>5.5}(D)=\\frac{2}{3} \\times (\\frac{1}{2} \\times \\frac{1}{2} \\times 2) + \\frac{1}{3} \\times (\\frac{1}{2} \\times \\frac{1}{2} \\times 2)  = \\frac{1}{2} $$\n",
    "$$ H_{x_2>6.5}(D)=\\frac{5}{6} \\times (\\frac{3}{5} \\times \\frac{2}{5} \\times 2) + \\frac{1}{6} \\times 0 = \\frac{2}{5} $$"
   ]
  },
  {
   "cell_type": "markdown",
   "id": "79e13bdd-d0ad-4144-8fa7-7cf27fa6f6de",
   "metadata": {},
   "source": [
    "\n",
    "\n",
    "对$x_3$排序：\n",
    "$$\\begin{array}{cccc}x_1 & x_2 & x_3 & y \\\\\\hline1   & 3   & 2   & 0 \\\\3   & 2   & 5   & 1 \\\\4   & 5   & 6   & 0 \\\\5   & 7   & 7   & 0 \\\\6   & 4   & 8   & 1 \\\\8   & 6   & 9   & 1 \\\\\\end{array}$$\n",
    "\n",
    "\n",
    "$x_3$可能的阈值为3.5，5.5，6.5，7.5，8.5\n",
    "\n",
    "$$ H_{x_3>3.5}(D)=\\frac{1}{6} \\times 0 + \\frac{5}{6} \\times (\\frac{3}{5} \\times \\frac{2}{5} \\times 2) = \\frac{2}{5} $$\n",
    "$$ H_{x_3>5.5}(D)=\\frac{1}{3} \\times (\\frac{1}{2} \\times \\frac{1}{2} \\times 2) + \\frac{2}{3} \\times (\\frac{1}{2} \\times \\frac{1}{2} \\times 2) = \\frac{1}{2} $$\n",
    "$$ H_{x_3>6.5}(D)=\\frac{1}{2} \\times (\\frac{2}{3} \\times \\frac{1}{3} \\times 2) + \\frac{1}{2} \\times (\\frac{2}{3} \\times \\frac{1}{3} \\times 2) = \\frac{4}{9} $$\n",
    "$$ H_{x_3>7.5}(D)=\\frac{2}{3} \\times (\\frac{3}{4} \\times \\frac{1}{4} \\times 2) + \\frac{1}{3} \\times 0  = \\frac{1}{4} $$\n",
    "$$ H_{x_3>8.5}(D)=\\frac{5}{6} \\times (\\frac{2}{5} \\times \\frac{3}{5} \\times 2) + \\frac{1}{6} \\times 0 = \\frac{2}{5} $$"
   ]
  },
  {
   "cell_type": "markdown",
   "id": "1bcb726a-5dfd-4774-8a54-debdd9283e0b",
   "metadata": {},
   "source": [
    "由上，可得$H_{x_1>5.5}(D)$和$H_{x_3>7.5}(D)$均最小，为$\\frac{1}{4}$  \n",
    "因此最佳决策可以为$x_1>5.5$或者$x_3>7.5$"
   ]
  },
  {
   "cell_type": "code",
   "execution_count": null,
   "id": "c72fb398-2fe0-4926-93df-357f0832a386",
   "metadata": {},
   "outputs": [],
   "source": []
  }
 ],
 "metadata": {
  "kernelspec": {
   "display_name": "Python 3 (ipykernel)",
   "language": "python",
   "name": "python3"
  },
  "language_info": {
   "codemirror_mode": {
    "name": "ipython",
    "version": 3
   },
   "file_extension": ".py",
   "mimetype": "text/x-python",
   "name": "python",
   "nbconvert_exporter": "python",
   "pygments_lexer": "ipython3",
   "version": "3.10.12"
  }
 },
 "nbformat": 4,
 "nbformat_minor": 5
}
