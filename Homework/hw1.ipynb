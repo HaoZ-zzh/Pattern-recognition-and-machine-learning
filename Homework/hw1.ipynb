{
 "cells": [
  {
   "cell_type": "markdown",
   "id": "10cc37e5-0337-42b5-8a48-27e036c33288",
   "metadata": {},
   "source": [
    "# 作业 2 判别式分类器"
   ]
  },
  {
   "cell_type": "markdown",
   "id": "834b0d5a-0708-42d1-8f25-08903cdecd67",
   "metadata": {},
   "source": [
    "\n",
    "## 1. 一个三类问题，其判别函数为：\n",
    "$$f_1(x) = -x_1, \\quad f_2(x) = x_1 + x_2 - 1, \\quad f_3(x) = x_1 - x_2 - 1$$\n",
    "（1）设这些函数是在多类情况(1)条件下确定的，绘出其判别界面和每一个模式类别的区域。\n",
    "\n",
    "（2）设为多类情况 2，并使：$f_{1,2} = f_1(x), \\quad f_{1,3}(x) = f_2(x), \\quad f_{2,3}(x) = f_3(x)$。绘出其判别界面和多类情况 2 的区域。\n",
    "\n",
    "（3）设$f_1(x), f_2(x)$和$f_3(x)$是在多类情况(3)的条件下确定的，绘出其判别界面和每类的区域。\n",
    "\n",
    "\n",
    "\n",
    "\n"
   ]
  },
  {
   "cell_type": "code",
   "execution_count": 4,
   "id": "02365942-afaf-4c71-bf90-a3825b983e94",
   "metadata": {},
   "outputs": [
    {
     "ename": "ValueError",
     "evalue": "'x' is not 1-dimensional",
     "output_type": "error",
     "traceback": [
      "\u001b[0;31m---------------------------------------------------------------------------\u001b[0m",
      "\u001b[0;31mValueError\u001b[0m                                Traceback (most recent call last)",
      "Cell \u001b[0;32mIn[4], line 25\u001b[0m\n\u001b[1;32m     23\u001b[0m \u001b[38;5;66;03m# 绘制区域1 (类别 C1)\u001b[39;00m\n\u001b[1;32m     24\u001b[0m ax\u001b[38;5;241m.\u001b[39mcontour(X[:, \u001b[38;5;241m0\u001b[39m], X[:, \u001b[38;5;241m1\u001b[39m], F1, colors\u001b[38;5;241m=\u001b[39m\u001b[38;5;124m'\u001b[39m\u001b[38;5;124mblack\u001b[39m\u001b[38;5;124m'\u001b[39m)\n\u001b[0;32m---> 25\u001b[0m \u001b[43max\u001b[49m\u001b[38;5;241;43m.\u001b[39;49m\u001b[43mfill_between\u001b[49m\u001b[43m(\u001b[49m\u001b[43mX\u001b[49m\u001b[43m[\u001b[49m\u001b[43m:\u001b[49m\u001b[43m,\u001b[49m\u001b[43m \u001b[49m\u001b[38;5;241;43m0\u001b[39;49m\u001b[43m]\u001b[49m\u001b[43m,\u001b[49m\u001b[43m \u001b[49m\u001b[43mX\u001b[49m\u001b[43m[\u001b[49m\u001b[43m:\u001b[49m\u001b[43m,\u001b[49m\u001b[43m \u001b[49m\u001b[38;5;241;43m1\u001b[39;49m\u001b[43m]\u001b[49m\u001b[43m,\u001b[49m\u001b[43m \u001b[49m\u001b[43mwhere\u001b[49m\u001b[38;5;241;43m=\u001b[39;49m\u001b[43mF1\u001b[49m\u001b[43m \u001b[49m\u001b[38;5;241;43m>\u001b[39;49m\u001b[43m \u001b[49m\u001b[38;5;241;43m0\u001b[39;49m\u001b[43m,\u001b[49m\u001b[43m \u001b[49m\u001b[43mcolor\u001b[49m\u001b[38;5;241;43m=\u001b[39;49m\u001b[38;5;124;43m'\u001b[39;49m\u001b[38;5;124;43mred\u001b[39;49m\u001b[38;5;124;43m'\u001b[39;49m\u001b[43m,\u001b[49m\u001b[43m \u001b[49m\u001b[43malpha\u001b[49m\u001b[38;5;241;43m=\u001b[39;49m\u001b[38;5;241;43m0.5\u001b[39;49m\u001b[43m)\u001b[49m\n\u001b[1;32m     27\u001b[0m \u001b[38;5;66;03m# 绘制区域2 (类别 C2)\u001b[39;00m\n\u001b[1;32m     28\u001b[0m ax\u001b[38;5;241m.\u001b[39mcontour(X[:, \u001b[38;5;241m0\u001b[39m], X[:, \u001b[38;5;241m1\u001b[39m], F2, colors\u001b[38;5;241m=\u001b[39m\u001b[38;5;124m'\u001b[39m\u001b[38;5;124mblack\u001b[39m\u001b[38;5;124m'\u001b[39m)\n",
      "File \u001b[0;32m/usr/local/lib/python3.10/dist-packages/matplotlib/__init__.py:1465\u001b[0m, in \u001b[0;36m_preprocess_data.<locals>.inner\u001b[0;34m(ax, data, *args, **kwargs)\u001b[0m\n\u001b[1;32m   1462\u001b[0m \u001b[38;5;129m@functools\u001b[39m\u001b[38;5;241m.\u001b[39mwraps(func)\n\u001b[1;32m   1463\u001b[0m \u001b[38;5;28;01mdef\u001b[39;00m \u001b[38;5;21minner\u001b[39m(ax, \u001b[38;5;241m*\u001b[39margs, data\u001b[38;5;241m=\u001b[39m\u001b[38;5;28;01mNone\u001b[39;00m, \u001b[38;5;241m*\u001b[39m\u001b[38;5;241m*\u001b[39mkwargs):\n\u001b[1;32m   1464\u001b[0m     \u001b[38;5;28;01mif\u001b[39;00m data \u001b[38;5;129;01mis\u001b[39;00m \u001b[38;5;28;01mNone\u001b[39;00m:\n\u001b[0;32m-> 1465\u001b[0m         \u001b[38;5;28;01mreturn\u001b[39;00m \u001b[43mfunc\u001b[49m\u001b[43m(\u001b[49m\u001b[43max\u001b[49m\u001b[43m,\u001b[49m\u001b[43m \u001b[49m\u001b[38;5;241;43m*\u001b[39;49m\u001b[38;5;28;43mmap\u001b[39;49m\u001b[43m(\u001b[49m\u001b[43msanitize_sequence\u001b[49m\u001b[43m,\u001b[49m\u001b[43m \u001b[49m\u001b[43margs\u001b[49m\u001b[43m)\u001b[49m\u001b[43m,\u001b[49m\u001b[43m \u001b[49m\u001b[38;5;241;43m*\u001b[39;49m\u001b[38;5;241;43m*\u001b[39;49m\u001b[43mkwargs\u001b[49m\u001b[43m)\u001b[49m\n\u001b[1;32m   1467\u001b[0m     bound \u001b[38;5;241m=\u001b[39m new_sig\u001b[38;5;241m.\u001b[39mbind(ax, \u001b[38;5;241m*\u001b[39margs, \u001b[38;5;241m*\u001b[39m\u001b[38;5;241m*\u001b[39mkwargs)\n\u001b[1;32m   1468\u001b[0m     auto_label \u001b[38;5;241m=\u001b[39m (bound\u001b[38;5;241m.\u001b[39marguments\u001b[38;5;241m.\u001b[39mget(label_namer)\n\u001b[1;32m   1469\u001b[0m                   \u001b[38;5;129;01mor\u001b[39;00m bound\u001b[38;5;241m.\u001b[39mkwargs\u001b[38;5;241m.\u001b[39mget(label_namer))\n",
      "File \u001b[0;32m/usr/local/lib/python3.10/dist-packages/matplotlib/axes/_axes.py:5512\u001b[0m, in \u001b[0;36mAxes.fill_between\u001b[0;34m(self, x, y1, y2, where, interpolate, step, **kwargs)\u001b[0m\n\u001b[1;32m   5510\u001b[0m \u001b[38;5;28;01mdef\u001b[39;00m \u001b[38;5;21mfill_between\u001b[39m(\u001b[38;5;28mself\u001b[39m, x, y1, y2\u001b[38;5;241m=\u001b[39m\u001b[38;5;241m0\u001b[39m, where\u001b[38;5;241m=\u001b[39m\u001b[38;5;28;01mNone\u001b[39;00m, interpolate\u001b[38;5;241m=\u001b[39m\u001b[38;5;28;01mFalse\u001b[39;00m,\n\u001b[1;32m   5511\u001b[0m                  step\u001b[38;5;241m=\u001b[39m\u001b[38;5;28;01mNone\u001b[39;00m, \u001b[38;5;241m*\u001b[39m\u001b[38;5;241m*\u001b[39mkwargs):\n\u001b[0;32m-> 5512\u001b[0m     \u001b[38;5;28;01mreturn\u001b[39;00m \u001b[38;5;28;43mself\u001b[39;49m\u001b[38;5;241;43m.\u001b[39;49m\u001b[43m_fill_between_x_or_y\u001b[49m\u001b[43m(\u001b[49m\n\u001b[1;32m   5513\u001b[0m \u001b[43m        \u001b[49m\u001b[38;5;124;43m\"\u001b[39;49m\u001b[38;5;124;43mx\u001b[39;49m\u001b[38;5;124;43m\"\u001b[39;49m\u001b[43m,\u001b[49m\u001b[43m \u001b[49m\u001b[43mx\u001b[49m\u001b[43m,\u001b[49m\u001b[43m \u001b[49m\u001b[43my1\u001b[49m\u001b[43m,\u001b[49m\u001b[43m \u001b[49m\u001b[43my2\u001b[49m\u001b[43m,\u001b[49m\n\u001b[1;32m   5514\u001b[0m \u001b[43m        \u001b[49m\u001b[43mwhere\u001b[49m\u001b[38;5;241;43m=\u001b[39;49m\u001b[43mwhere\u001b[49m\u001b[43m,\u001b[49m\u001b[43m \u001b[49m\u001b[43minterpolate\u001b[49m\u001b[38;5;241;43m=\u001b[39;49m\u001b[43minterpolate\u001b[49m\u001b[43m,\u001b[49m\u001b[43m \u001b[49m\u001b[43mstep\u001b[49m\u001b[38;5;241;43m=\u001b[39;49m\u001b[43mstep\u001b[49m\u001b[43m,\u001b[49m\u001b[43m \u001b[49m\u001b[38;5;241;43m*\u001b[39;49m\u001b[38;5;241;43m*\u001b[39;49m\u001b[43mkwargs\u001b[49m\u001b[43m)\u001b[49m\n",
      "File \u001b[0;32m/usr/local/lib/python3.10/dist-packages/matplotlib/axes/_axes.py:5419\u001b[0m, in \u001b[0;36mAxes._fill_between_x_or_y\u001b[0;34m(self, ind_dir, ind, dep1, dep2, where, interpolate, step, **kwargs)\u001b[0m\n\u001b[1;32m   5416\u001b[0m \u001b[38;5;28;01mfor\u001b[39;00m name, array \u001b[38;5;129;01min\u001b[39;00m [\n\u001b[1;32m   5417\u001b[0m         (ind_dir, ind), (\u001b[38;5;124mf\u001b[39m\u001b[38;5;124m\"\u001b[39m\u001b[38;5;132;01m{\u001b[39;00mdep_dir\u001b[38;5;132;01m}\u001b[39;00m\u001b[38;5;124m1\u001b[39m\u001b[38;5;124m\"\u001b[39m, dep1), (\u001b[38;5;124mf\u001b[39m\u001b[38;5;124m\"\u001b[39m\u001b[38;5;132;01m{\u001b[39;00mdep_dir\u001b[38;5;132;01m}\u001b[39;00m\u001b[38;5;124m2\u001b[39m\u001b[38;5;124m\"\u001b[39m, dep2)]:\n\u001b[1;32m   5418\u001b[0m     \u001b[38;5;28;01mif\u001b[39;00m array\u001b[38;5;241m.\u001b[39mndim \u001b[38;5;241m>\u001b[39m \u001b[38;5;241m1\u001b[39m:\n\u001b[0;32m-> 5419\u001b[0m         \u001b[38;5;28;01mraise\u001b[39;00m \u001b[38;5;167;01mValueError\u001b[39;00m(\u001b[38;5;124mf\u001b[39m\u001b[38;5;124m\"\u001b[39m\u001b[38;5;132;01m{\u001b[39;00mname\u001b[38;5;132;01m!r}\u001b[39;00m\u001b[38;5;124m is not 1-dimensional\u001b[39m\u001b[38;5;124m\"\u001b[39m)\n\u001b[1;32m   5421\u001b[0m \u001b[38;5;28;01mif\u001b[39;00m where \u001b[38;5;129;01mis\u001b[39;00m \u001b[38;5;28;01mNone\u001b[39;00m:\n\u001b[1;32m   5422\u001b[0m     where \u001b[38;5;241m=\u001b[39m \u001b[38;5;28;01mTrue\u001b[39;00m\n",
      "\u001b[0;31mValueError\u001b[0m: 'x' is not 1-dimensional"
     ]
    },
    {
     "data": {
      "image/png": "[encoded data removed]",
      "text/plain": [
       "<Figure size 800x600 with 1 Axes>"
      ]
     },
     "metadata": {},
     "output_type": "display_data"
    }
   ],
   "source": [
    "# 重新绘制图形，正确表示f3(x) = 0的判别界面\n",
    "\n",
    "plt.figure(figsize=(8, 8))\n",
    "\n",
    "# 为每个类别和不确定区域使用不同的颜色填充\n",
    "plt.contourf(X1, X2, class_matrix, levels=[-0.5, 0.5, 1.5, 2.5, 3.5], colors=['gray', 'lightblue', 'lightgreen', 'salmon'], alpha=0.5)\n",
    "\n",
    "# 绘制并正确表示判别界面\n",
    "plt.plot([-3, 3], [4, -2], 'k--', label='$f_2(x) = 0$')  # f2=0界面\n",
    "plt.plot([-3, 3], [-4, 2], 'k-.', label='$f_3(x) = 0$')  # 纠正f3=0界面\n",
    "plt.axvline(0, color='k', linestyle=':', label='$f_1(x) = 0$')  # f1=0界面\n",
    "\n",
    "# 添加十字坐标系\n",
    "plt.axhline(0, color='black', linewidth=1)\n",
    "plt.axvline(0, color='black', linewidth=1)\n",
    "\n",
    "# 标注类别\n",
    "plt.text(-2, 1, 'Class 1', color='black', fontsize=12, ha='center', va='center')\n",
    "plt.text(1.5, -1, 'Class 2', color='black', fontsize=12, ha='center', va='center')\n",
    "plt.text(1.5, 1, 'Class 3', color='black', fontsize=12, ha='center', va='center')\n",
    "\n",
    "# 添加图例\n",
    "plt.legend(loc='upper right')\n",
    "\n",
    "# 配置图形\n",
    "plt.xlabel('$x_1$')\n",
    "plt.ylabel('$x_2$')\n",
    "plt.title('Correctly Displayed Discriminant Interfaces')\n",
    "plt.xlim([-3, 3])\n",
    "plt.ylim([-3, 3])\n",
    "\n",
    "plt.show()"
   ]
  },
  {
   "cell_type": "markdown",
   "id": "ad68505f-9958-4bec-8594-0b9cf13f0f3a",
   "metadata": {},
   "source": [
    "## 2. 两类模式，每类包括 5 个 3 维不同的模式向量。\n",
    "\n",
    "(1)如果它们是线性可分的，权向量的维度是多少？\n",
    "\n",
    "答：线性模型的权向量的维度同输入模型的维度，为 3。还有额外的一个偏差参数。\n",
    "\n",
    "(2)假如要建立二次的多项式判别函数，权向量的维度是多少？\n",
    "\n",
    "答：$C^3 = 3$维$w^?$向的$r=2$次多项式，权系数的总项数为\n",
    "$$\\frac{(3+2)!}{2!3!} = 10$$\n",
    "\n"
   ]
  },
  {
   "cell_type": "markdown",
   "id": "e4481839-64ee-4f4d-8210-53b3f42a0205",
   "metadata": {},
   "source": [
    "### 3. 给定两类样本，其中\n",
    "\n",
    "类别 1 有 5 个样本：$\\{(1,2)^T, (2,3)^T, (3,3)^T, (4,5)^T, (5,5)^T\\}$\n",
    "\n",
    "类别 2 有 6 个样本：$\\{(1,0)^T, (2,1)^T, (3,1)^T, (3,2)^T, (5,3)^T, (6,5)^T\\}$\n",
    "\n",
    "（1）求这两类的 Fisher 判别投影向量、判别函数，并在图上画出；\n",
    "\n",
    "答：\n",
    "$$\\bar{w}_1 = \\frac{\\sum_{i:y_i=1} N_i w_i}{\\sum_{i:y_i=1} N_i} = \\frac{1}{5} \\left[ (1/2 - 3/3.6) (1/2 - 3/3.6) + \\cdots + (5/5 - 3/3.6) (5/5 - 3/3.6) \\right] = (-0.79, 0.89)^T$$\n",
    "$$\\bar{w}_2 = \\frac{\\sum_{i:y_i=2} N_i w_i}{\\sum_{i:y_i=2} N_i} = \\frac{1}{6} \\left[ (1 - 3.3/2) (1 - 3.3/2) + \\cdots + (6 - 3.3/2) (6 - 3.3/2) \\right] = (3.3/2, 2)^T$$\n",
    "$$S_w = \\sum_{i:y_i=1} (w_i - \\bar{w}_1) (w_i - \\bar{w}_1)^T = \\left[ \\begin{array}{cc} 10 & 8 \\\\ 8 & 7.2 \\end{array} \\right], \\quad S_b = \\sum_{i:y_i=2} (w_i - \\bar{w}_2) (w_i - \\bar{w}_2)^T = \\left[ \\begin{array}{cc} 17.3 & 16 \\\\ 16 & 16 \\end{array} \\right]$$\n",
    "$$S_w^{-1} = \\left[ \\begin{array}{cc} 0.39 & -0.41 \\\\ -0.41 & 0.47 \\end{array} \\right], \\quad w = S_w^{-1}(\\bar{w}_1 - \\bar{w}_2) = (-2.38, 3.38)^T$$\n",
    "分类阈值为：\n",
    "$$x_0 = \\frac{\\bar{w}_1^T + \\bar{w}_2^T}{2} = \\frac{1}{2} (-2.38, 3.38)^T \\left( \\begin{array}{c} 3/3.6 \\\\ 3.3/2 \\end{array} \\right) = 0.0035$$\n",
    "判别面方程为：\n",
    "$$w^T w = x_0$$\n",
    "即$(-0.79x_1 + 0.89x_2) = 0.0035$。\n",
    "\n",
    "（2）计算每个样本点投影后的坐标。\n",
    "\n",
    "$$x_i = w^T w_i = (-0.79, 0.89)^T (w_{i,1}/ - w_{i,2})$$\n",
    "\n"
   ]
  },
  {
   "cell_type": "markdown",
   "id": "aa1ac10b-594b-42ae-8e06-1172bf957a11",
   "metadata": {},
   "source": [
    "## 4. 对给定的如下样本，根据 Gini 指数，构造二叉决策树：\n",
    "\n",
    "$$\\begin{array}{cccc}& x_1 & x_2 & x_3 & y \\\\\\hline3 & 2 & 5 & 1 \\\\5 & 7 & 7 & 0 \\\\8 & 6 & 9 & 1 \\\\1 & 3 & 2 & 0 \\\\6 & 4 & 8 & 1 \\\\4 & 5 & 6 & 0 \\\\\\end{array}$$\n",
    "\n",
    "（1）根结点的 Gini 指数为多少？\n",
    "\n",
    "答：\n",
    "$$H(D) = \\frac{1}{2} \\left( \\frac{1}{2} + \\frac{1}{2} \\right) = \\frac{1}{2}$$\n",
    "\n",
    "（2）请给出第一个决策规则（选择的特征及阈值）。\n",
    "\n",
    "答：根据特征 $x_1$ 的取值，对所有样本进行排序：得到 1，3，4，5，6，8，所以可能的阈值为：1/2 (1 + 3) = 2，3.5， 4.5，5.5，7。\n",
    "根据每个可能的阈值将数据集划分成左右分支，划分后的阈值分别为：2/5, 1/2, 4/9, 1/4, 2/5。\n",
    "所以对特征 $x_1$，决策规则为 $x_1 > 5$ 时最佳，划分后的 Gini 指数为 1/4。\n",
    "对特征 $x_2$ 类似处理，所以可能的阈值为：2.5，3.5， 4.5，5.5，6.5, 根据每个可能的阈值将数据集划分成左右分支，划分后的阈值分别为：2/5, 1/2, 4/9, 1/2, 2/5。\n",
    "这里最小的 Gini 指数大于已有的最佳决策的 Gini 指数，所以不考虑特征 $x_2$。\n",
    "对特征 $x_3$ 类似处理，所以可能的阈值为：3.5，5.5， 6.5，7.5，8.5, 根据每个可能的阈值将数据集划分成左右分支，划分后的阈值分别为：2/5, 1/2, 4/9, 1/4, 2/5。\n",
    "这里最小的 Gini 指数"
   ]
  },
  {
   "cell_type": "markdown",
   "id": "4f6f3593-4cbb-4861-bada-58fac7eac6e4",
   "metadata": {},
   "source": []
  },
  {
   "cell_type": "code",
   "execution_count": null,
   "id": "bb5c976c-ad4e-4aa6-885d-3edbfe488830",
   "metadata": {},
   "outputs": [],
   "source": []
  }
 ],
 "metadata": {
  "kernelspec": {
   "display_name": "Python 3 (ipykernel)",
   "language": "python",
   "name": "python3"
  },
  "language_info": {
   "codemirror_mode": {
    "name": "ipython",
    "version": 3
   },
   "file_extension": ".py",
   "mimetype": "text/x-python",
   "name": "python",
   "nbconvert_exporter": "python",
   "pygments_lexer": "ipython3",
   "version": "3.10.12"
  }
 },
 "nbformat": 4,
 "nbformat_minor": 5
}
